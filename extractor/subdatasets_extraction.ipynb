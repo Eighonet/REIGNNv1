{
 "cells": [
  {
   "cell_type": "code",
   "execution_count": 1,
   "id": "50f07781",
   "metadata": {},
   "outputs": [],
   "source": [
    "from collections import Counter\n",
    "from tqdm import tqdm\n",
    "import random\n",
    "import copy\n",
    "\n",
    "import networkx as nx\n",
    "import pandas as pd\n",
    "import numpy as np"
   ]
  },
  {
   "cell_type": "code",
   "execution_count": 2,
   "id": "a3262128",
   "metadata": {},
   "outputs": [],
   "source": [
    "def get_nx_graph(edge_list_path):\n",
    "    edge_list = pd.read_csv(edge_list_path, index_col = 0)\n",
    "    aev = edge_list.values\n",
    "    edges_list_t = [(aev[i][0], aev[i][1]) for i in tqdm(range(len(aev)))]\n",
    "    edge_to_index = {(aev[i][0], aev[i][1]):i for i in tqdm(range(len(aev)))}\n",
    "    return edge_to_index, nx.DiGraph((x, y) for (x, y) in tqdm(Counter(edges_list_t)))    \n",
    "\n",
    "def get_subraph(N, source: int, depth_limit: int = 4):\n",
    "    nodes = list(nx.dfs_preorder_nodes(N, source = source, depth_limit = depth_limit))\n",
    "    H = N.subgraph(nodes)\n",
    "    print(\"Nodes in subgraph: \", len(nodes), \"\\nEdges in subgraph: \", len(H.edges()))\n",
    "    return H"
   ]
  },
  {
   "cell_type": "markdown",
   "id": "e566a539",
   "metadata": {},
   "source": [
    "### Notebook navigation\n"
   ]
  },
  {
   "cell_type": "markdown",
   "id": "652961a8",
   "metadata": {},
   "source": [
    "[Co-authorship subgraph extraction](#ca_subgraph_extraction)\n",
    "\n",
    "[Citation subgraph extraction](#citation_graph_extraction)\n",
    "\n",
    "[Dataset clear](#dataset_clear)\n",
    "\n",
    "[Final check](#final_check)\n",
    "\n",
    "[Save data](#save_data)"
   ]
  },
  {
   "cell_type": "markdown",
   "id": "73343eaf",
   "metadata": {},
   "source": [
    "### Co-authorship subgraph extraction\n",
    "<a id='ca_subgraph_extraction'></a>"
   ]
  },
  {
   "cell_type": "code",
   "execution_count": 92,
   "id": "0bfc1d3c",
   "metadata": {},
   "outputs": [],
   "source": [
    "global_dataset = \"SSORC_CS_2010_2021\""
   ]
  },
  {
   "cell_type": "code",
   "execution_count": 93,
   "id": "64aa53f6",
   "metadata": {},
   "outputs": [
    {
     "name": "stderr",
     "output_type": "stream",
     "text": [
      "100%|██████████| 30796749/30796749 [00:21<00:00, 1414189.08it/s]\n",
      "100%|██████████| 30796749/30796749 [00:35<00:00, 858394.00it/s]\n",
      "100%|██████████| 30796749/30796749 [01:15<00:00, 407047.74it/s]\n"
     ]
    }
   ],
   "source": [
    "edge_to_index_A, A = get_nx_graph(\"processed_data/\" + global_dataset + \"_authors_edge_list.csv\")"
   ]
  },
  {
   "cell_type": "code",
   "execution_count": 94,
   "id": "ad327d60",
   "metadata": {},
   "outputs": [
    {
     "name": "stderr",
     "output_type": "stream",
     "text": [
      "100%|██████████| 17921409/17921409 [00:11<00:00, 1524559.81it/s]\n",
      "100%|██████████| 17921409/17921409 [00:20<00:00, 882486.28it/s]\n",
      "100%|██████████| 17921409/17921409 [02:25<00:00, 123114.75it/s]\n"
     ]
    }
   ],
   "source": [
    "edge_to_index_G, G = get_nx_graph(\"processed_data/\" + global_dataset + \"_papers_edge_list_indexed.csv\")"
   ]
  },
  {
   "cell_type": "markdown",
   "id": "353eb6f0",
   "metadata": {},
   "source": [
    "print(\"Number of connected components in the initial graphs: \", \\\n",
    "      nx.number_connected_components(A.to_undirected()), \\\n",
    "      nx.number_connected_components(G.to_undirected()))"
   ]
  },
  {
   "cell_type": "code",
   "execution_count": null,
   "id": "a4c2b807",
   "metadata": {},
   "outputs": [],
   "source": [
    "Acc = sorted(nx.connected_components(A.to_undirected()), key=len, reverse=True)"
   ]
  },
  {
   "cell_type": "code",
   "execution_count": null,
   "id": "368de621",
   "metadata": {},
   "outputs": [],
   "source": [
    "print(\"Some CC sizes: \", len(Acc[0]), len(Acc[1]), len(Acc[2]))"
   ]
  },
  {
   "cell_type": "markdown",
   "id": "22475888",
   "metadata": {},
   "source": [
    "Co-authorship network edge list:"
   ]
  },
  {
   "cell_type": "code",
   "execution_count": 95,
   "id": "382427b6",
   "metadata": {},
   "outputs": [],
   "source": [
    "authors_edges = pd.read_csv(\"processed_data/\" + global_dataset + \"_authors_edge_list.csv\", index_col = 0)"
   ]
  },
  {
   "cell_type": "markdown",
   "id": "1d17eddf",
   "metadata": {},
   "source": [
    "Co-authorship network edges papers:"
   ]
  },
  {
   "cell_type": "code",
   "execution_count": 96,
   "id": "a79113cd",
   "metadata": {},
   "outputs": [],
   "source": [
    "authors_edges_papers = pd.read_csv(\"processed_data/\" + global_dataset + \"_authors_edges_papers_indices.csv\", index_col = 0, \\\n",
    "                                   converters={\"papers_indices\": lambda x: x.strip(\"[]\").replace(\"'\",\"\").split(\", \")})"
   ]
  },
  {
   "cell_type": "code",
   "execution_count": 97,
   "id": "35562524",
   "metadata": {},
   "outputs": [
    {
     "name": "stdout",
     "output_type": "stream",
     "text": [
      "Nodes in subgraph:  1437 \n",
      "Edges in subgraph:  14972\n"
     ]
    },
    {
     "data": {
      "text/plain": [
       "144092530"
      ]
     },
     "execution_count": 97,
     "metadata": {},
     "output_type": "execute_result"
    }
   ],
   "source": [
    "source = 144092530 #random.choice(list(A.nodes()))\n",
    "#source = 46812895 #random.choice(list(A.nodes()))\n",
    "#source = 153425792 #random.choice(list(A.nodes()))\n",
    "sub_A = get_subraph(A, source, depth_limit = 5) #A.subgraph(list(Acc[1]))\n",
    "source"
   ]
  },
  {
   "cell_type": "code",
   "execution_count": 68,
   "id": "86da0539",
   "metadata": {},
   "outputs": [
    {
     "name": "stdout",
     "output_type": "stream",
     "text": [
      "Subgraph A connected components check:  1\n"
     ]
    }
   ],
   "source": [
    "print(\"Subgraph A connected components check: \", nx.number_connected_components(sub_A.to_undirected()))"
   ]
  },
  {
   "cell_type": "code",
   "execution_count": 98,
   "id": "e687d405",
   "metadata": {},
   "outputs": [
    {
     "data": {
      "text/plain": [
       "14972"
      ]
     },
     "execution_count": 98,
     "metadata": {},
     "output_type": "execute_result"
    }
   ],
   "source": [
    "sub_A_edges = list(sub_A.edges())\n",
    "len(sub_A_edges)"
   ]
  },
  {
   "cell_type": "markdown",
   "id": "8d8fd8f1",
   "metadata": {},
   "source": [
    "Obtaining papers corresponding to co-authorship graph edges:"
   ]
  },
  {
   "cell_type": "code",
   "execution_count": 99,
   "id": "edf1ad96",
   "metadata": {},
   "outputs": [
    {
     "name": "stderr",
     "output_type": "stream",
     "text": [
      "100%|██████████| 14972/14972 [00:00<00:00, 51455.76it/s]\n"
     ]
    }
   ],
   "source": [
    "authors_edges_papers_sub = [authors_edges_papers[\"papers_indices\"][edge_to_index_A[sub_A_edges[i]]] for i in tqdm(range(len(sub_A_edges)))]"
   ]
  },
  {
   "cell_type": "markdown",
   "id": "78acbb9e",
   "metadata": {},
   "source": [
    "Extracting unique papers:"
   ]
  },
  {
   "cell_type": "code",
   "execution_count": 100,
   "id": "f52a3a3f",
   "metadata": {},
   "outputs": [],
   "source": [
    "authors_edges_papers_sub_flat = [int(item) for subarray in authors_edges_papers_sub for item in subarray]\n",
    "unique_papers = list(set(authors_edges_papers_sub_flat))"
   ]
  },
  {
   "cell_type": "code",
   "execution_count": 101,
   "id": "20a2965d",
   "metadata": {},
   "outputs": [
    {
     "name": "stdout",
     "output_type": "stream",
     "text": [
      "Total amount of mentioned papers:  20299 \n",
      "Unique papers number:  3210\n"
     ]
    }
   ],
   "source": [
    "print(\"Total amount of mentioned papers: \", len(authors_edges_papers_sub_flat), \\\n",
    "      \"\\nUnique papers number: \", len(unique_papers))"
   ]
  },
  {
   "cell_type": "markdown",
   "id": "8e45f10f",
   "metadata": {},
   "source": [
    "### Citation subgraph extraction\n",
    "<a id='citation_graph_extraction'></a>"
   ]
  },
  {
   "cell_type": "code",
   "execution_count": 102,
   "id": "7e5730e2",
   "metadata": {},
   "outputs": [
    {
     "data": {
      "text/plain": [
       "2504381"
      ]
     },
     "execution_count": 102,
     "metadata": {},
     "output_type": "execute_result"
    }
   ],
   "source": [
    "len(G.nodes)"
   ]
  },
  {
   "cell_type": "code",
   "execution_count": 103,
   "id": "d4467507",
   "metadata": {},
   "outputs": [],
   "source": [
    "papers_to_delete_initial = list(set(unique_papers) - set(G.nodes))"
   ]
  },
  {
   "cell_type": "code",
   "execution_count": 104,
   "id": "809d6e3c",
   "metadata": {},
   "outputs": [
    {
     "data": {
      "text/plain": [
       "46"
      ]
     },
     "execution_count": 104,
     "metadata": {},
     "output_type": "execute_result"
    }
   ],
   "source": [
    "len(papers_to_delete_initial )"
   ]
  },
  {
   "cell_type": "code",
   "execution_count": 105,
   "id": "2a8bbaf3",
   "metadata": {},
   "outputs": [],
   "source": [
    "G_sub = G.subgraph(unique_papers)"
   ]
  },
  {
   "cell_type": "code",
   "execution_count": 106,
   "id": "01011ad5",
   "metadata": {},
   "outputs": [],
   "source": [
    "G_sub_nodes = list(G_sub.nodes())"
   ]
  },
  {
   "cell_type": "code",
   "execution_count": 107,
   "id": "ae1a22fd",
   "metadata": {},
   "outputs": [
    {
     "data": {
      "text/plain": [
       "3164"
      ]
     },
     "execution_count": 107,
     "metadata": {},
     "output_type": "execute_result"
    }
   ],
   "source": [
    "len(G_sub_nodes)"
   ]
  },
  {
   "cell_type": "markdown",
   "id": "c7933d94",
   "metadata": {},
   "source": [
    "### Dataset clear\n",
    "<a id='dataset_clear'></a>"
   ]
  },
  {
   "cell_type": "markdown",
   "id": "f8b830ae",
   "metadata": {},
   "source": [
    "Get connected components of initial citation graph:"
   ]
  },
  {
   "cell_type": "code",
   "execution_count": 44,
   "id": "22acfe0a",
   "metadata": {},
   "outputs": [],
   "source": [
    "Gcc = sorted(nx.connected_components(G_sub.to_undirected()), key=len, reverse=True)"
   ]
  },
  {
   "cell_type": "code",
   "execution_count": 45,
   "id": "d458dba8",
   "metadata": {
    "scrolled": true
   },
   "outputs": [
    {
     "name": "stdout",
     "output_type": "stream",
     "text": [
      "Some CC sizes:  1276 76 69\n"
     ]
    }
   ],
   "source": [
    "print(\"Some CC sizes: \", len(Gcc[0]), len(Gcc[1]), len(Gcc[2]))"
   ]
  },
  {
   "cell_type": "code",
   "execution_count": 46,
   "id": "b5a0f5e3",
   "metadata": {},
   "outputs": [
    {
     "name": "stdout",
     "output_type": "stream",
     "text": [
      "Number of papers out of GCC:  1888\n"
     ]
    }
   ],
   "source": [
    "remnants = 0\n",
    "for i in range(1, len(Gcc)):\n",
    "    remnants += len(Gcc[i])\n",
    "print (\"Number of papers out of GCC: \", remnants)"
   ]
  },
  {
   "cell_type": "markdown",
   "id": "29847e6d",
   "metadata": {},
   "source": [
    "Get id's of papers that are not presented in the largest connected component:"
   ]
  },
  {
   "cell_type": "code",
   "execution_count": 108,
   "id": "cc053004",
   "metadata": {},
   "outputs": [],
   "source": [
    "papers_out_lcc = []"
   ]
  },
  {
   "cell_type": "code",
   "execution_count": 602,
   "id": "4c5e05c4",
   "metadata": {},
   "outputs": [
    {
     "name": "stderr",
     "output_type": "stream",
     "text": [
      "100%|██████████| 5339/5339 [00:00<00:00, 1732429.91it/s]\n"
     ]
    }
   ],
   "source": [
    "for i in tqdm(range(len(G_sub_nodes))):\n",
    "    if G_sub_nodes[i] not in Gcc[0]:\n",
    "        papers_out_lcc.append(G_sub_nodes[i])"
   ]
  },
  {
   "cell_type": "code",
   "execution_count": 603,
   "id": "196e12e4",
   "metadata": {},
   "outputs": [
    {
     "name": "stdout",
     "output_type": "stream",
     "text": [
      "Total number of papers to delete:  1372\n"
     ]
    }
   ],
   "source": [
    "print(\"Total number of papers to delete: \", len(papers_out_lcc))"
   ]
  },
  {
   "cell_type": "markdown",
   "id": "d6b8fbfc",
   "metadata": {},
   "source": [
    "Removing unwanted papers from G_sub:"
   ]
  },
  {
   "cell_type": "code",
   "execution_count": 78,
   "id": "377023f7",
   "metadata": {},
   "outputs": [],
   "source": [
    "G_sub_clear = nx.DiGraph(G_sub)"
   ]
  },
  {
   "cell_type": "code",
   "execution_count": 605,
   "id": "9f06014f",
   "metadata": {},
   "outputs": [],
   "source": [
    "for i in range(len(papers_out_lcc)):\n",
    "    node = papers_out_lcc[i]\n",
    "    G_sub_clear.remove_node(node) "
   ]
  },
  {
   "cell_type": "code",
   "execution_count": 606,
   "id": "cb229cdf",
   "metadata": {},
   "outputs": [
    {
     "name": "stdout",
     "output_type": "stream",
     "text": [
      "1\n"
     ]
    }
   ],
   "source": [
    "print(nx.number_connected_components(G_sub_clear.to_undirected()))"
   ]
  },
  {
   "cell_type": "code",
   "execution_count": 65,
   "id": "198a754c",
   "metadata": {},
   "outputs": [],
   "source": [
    "G_sub_clear_nodes = list(G_sub_clear.nodes)"
   ]
  },
  {
   "cell_type": "markdown",
   "id": "81ab1dd4",
   "metadata": {},
   "source": [
    "Obtaining list of disappeared collaborations after papers removing:"
   ]
  },
  {
   "cell_type": "code",
   "execution_count": 111,
   "id": "8062f908",
   "metadata": {},
   "outputs": [],
   "source": [
    "papers_out_lcc += papers_to_delete_initial"
   ]
  },
  {
   "cell_type": "code",
   "execution_count": 112,
   "id": "e6baa4c1",
   "metadata": {},
   "outputs": [],
   "source": [
    "jj = []\n",
    "collabs_indices_to_delete = []"
   ]
  },
  {
   "cell_type": "code",
   "execution_count": 113,
   "id": "dc149faf",
   "metadata": {},
   "outputs": [
    {
     "name": "stderr",
     "output_type": "stream",
     "text": [
      "100%|██████████| 46/46 [00:00<00:00, 212.41it/s]\n"
     ]
    }
   ],
   "source": [
    "for i in tqdm(range(len(papers_out_lcc))):\n",
    "    for j in range(len(authors_edges_papers_sub)):\n",
    "#        if str(1745104) in authors_edges_papers_sub[j]:\n",
    "#            jj.append(j)\n",
    "        if str(papers_out_lcc[i]) in authors_edges_papers_sub[j]:\n",
    "            del authors_edges_papers_sub[j][authors_edges_papers_sub[j].index(str(papers_out_lcc[i]))]\n",
    "            if len(authors_edges_papers_sub[j]) == 0:\n",
    "                collabs_indices_to_delete.append(j)"
   ]
  },
  {
   "cell_type": "code",
   "execution_count": 114,
   "id": "3c2bee35",
   "metadata": {},
   "outputs": [],
   "source": [
    "collabs_indices_to_delete_copy = copy.deepcopy(collabs_indices_to_delete)"
   ]
  },
  {
   "cell_type": "code",
   "execution_count": 115,
   "id": "647c88a0",
   "metadata": {},
   "outputs": [
    {
     "data": {
      "text/plain": [
       "106"
      ]
     },
     "execution_count": 115,
     "metadata": {},
     "output_type": "execute_result"
    }
   ],
   "source": [
    "len(collabs_indices_to_delete)"
   ]
  },
  {
   "cell_type": "code",
   "execution_count": 116,
   "id": "e19115e4",
   "metadata": {},
   "outputs": [],
   "source": [
    "A_sub_clear = nx.DiGraph(sub_A)"
   ]
  },
  {
   "cell_type": "code",
   "execution_count": 117,
   "id": "dd8df08e",
   "metadata": {},
   "outputs": [],
   "source": [
    "A_sub_clear_edges = list(A_sub_clear.edges())"
   ]
  },
  {
   "cell_type": "code",
   "execution_count": 118,
   "id": "fe771f16",
   "metadata": {},
   "outputs": [
    {
     "name": "stderr",
     "output_type": "stream",
     "text": [
      "100%|██████████| 106/106 [00:00<00:00, 6237.58it/s]\n"
     ]
    }
   ],
   "source": [
    "for i in tqdm(range(len(collabs_indices_to_delete))):\n",
    "    edge = A_sub_clear_edges[collabs_indices_to_delete[i]]\n",
    "    if edge not in A_sub_clear_edges:\n",
    "        print(\"error\")\n",
    "\n",
    "    A_sub_clear.remove_edge(*edge) \n"
   ]
  },
  {
   "cell_type": "code",
   "execution_count": 119,
   "id": "a91a1040",
   "metadata": {},
   "outputs": [],
   "source": [
    "authors_edges_papers_sub_clear = [authors_edges_papers_sub[i] for i in range(len(authors_edges_papers_sub)) if len(authors_edges_papers_sub[i]) > 0]"
   ]
  },
  {
   "cell_type": "code",
   "execution_count": 120,
   "id": "370f9712",
   "metadata": {},
   "outputs": [
    {
     "data": {
      "text/plain": [
       "(14866, 14866)"
      ]
     },
     "execution_count": 120,
     "metadata": {},
     "output_type": "execute_result"
    }
   ],
   "source": [
    "len(A_sub_clear_edges) -  len(collabs_indices_to_delete), len(authors_edges_papers_sub_clear)"
   ]
  },
  {
   "cell_type": "markdown",
   "id": "28c0f520",
   "metadata": {},
   "source": [
    "### CHECK"
   ]
  },
  {
   "cell_type": "code",
   "execution_count": 121,
   "id": "9edec236",
   "metadata": {},
   "outputs": [],
   "source": [
    "A_sub_clear_edges_check = list(A_sub_clear.edges())"
   ]
  },
  {
   "cell_type": "code",
   "execution_count": 122,
   "id": "e37a9c05",
   "metadata": {},
   "outputs": [
    {
     "data": {
      "text/plain": [
       "(14972, 14866)"
      ]
     },
     "execution_count": 122,
     "metadata": {},
     "output_type": "execute_result"
    }
   ],
   "source": [
    "len(A_sub_clear_edges), len(A_sub_clear_edges_check)"
   ]
  },
  {
   "cell_type": "code",
   "execution_count": 123,
   "id": "3bb39db8",
   "metadata": {},
   "outputs": [
    {
     "name": "stderr",
     "output_type": "stream",
     "text": [
      "100%|██████████| 14866/14866 [00:00<00:00, 57772.81it/s]\n"
     ]
    }
   ],
   "source": [
    "authors_edges_papers_sub_2 = [authors_edges_papers[\"papers_indices\"][edge_to_index_A[A_sub_clear_edges_check[i]]] for i in tqdm(range(len(A_sub_clear_edges_check)))]"
   ]
  },
  {
   "cell_type": "code",
   "execution_count": 124,
   "id": "a44fe8c9",
   "metadata": {},
   "outputs": [
    {
     "name": "stderr",
     "output_type": "stream",
     "text": [
      "100%|██████████| 14866/14866 [00:00<00:00, 72905.78it/s]\n"
     ]
    }
   ],
   "source": [
    "authors_edges_papers_sub_2 = [authors_edges_papers[\"papers_indices\"][edge_to_index_A[A_sub_clear_edges_check[i]]] for i in tqdm(range(len(A_sub_clear_edges_check)))]\n",
    "authors_edges_papers_sub_flat_2 = [int(item) for subarray in authors_edges_papers_sub_2 for item in subarray]\n",
    "unique_papers_2 = list(set(authors_edges_papers_sub_flat_2))"
   ]
  },
  {
   "cell_type": "code",
   "execution_count": 125,
   "id": "8d2687dd",
   "metadata": {},
   "outputs": [
    {
     "data": {
      "text/plain": [
       "20151"
      ]
     },
     "execution_count": 125,
     "metadata": {},
     "output_type": "execute_result"
    }
   ],
   "source": [
    "len(authors_edges_papers_sub_flat_2)"
   ]
  },
  {
   "cell_type": "code",
   "execution_count": 126,
   "id": "0b1b7646",
   "metadata": {},
   "outputs": [
    {
     "data": {
      "text/plain": [
       "(3164, 3164)"
      ]
     },
     "execution_count": 126,
     "metadata": {},
     "output_type": "execute_result"
    }
   ],
   "source": [
    "len(unique_papers_2),len(G_sub_clear_nodes)"
   ]
  },
  {
   "cell_type": "code",
   "execution_count": 626,
   "id": "1fb806ce",
   "metadata": {},
   "outputs": [
    {
     "data": {
      "text/plain": [
       "set()"
      ]
     },
     "execution_count": 626,
     "metadata": {},
     "output_type": "execute_result"
    }
   ],
   "source": [
    "set(unique_papers_2).difference(set(G_sub_clear_nodes))"
   ]
  },
  {
   "cell_type": "code",
   "execution_count": 627,
   "id": "89993972",
   "metadata": {},
   "outputs": [
    {
     "name": "stderr",
     "output_type": "stream",
     "text": [
      "100%|██████████| 109642/109642 [00:00<00:00, 2720314.46it/s]\n"
     ]
    },
    {
     "data": {
      "text/plain": [
       "0"
      ]
     },
     "execution_count": 627,
     "metadata": {},
     "output_type": "execute_result"
    }
   ],
   "source": [
    "counter = 0\n",
    "for i in tqdm(range(len(authors_edges_papers_sub_2))):\n",
    "    if len(authors_edges_papers_sub_2[i]) == 0:\n",
    "        counter +=1\n",
    "\n",
    "counter"
   ]
  },
  {
   "cell_type": "code",
   "execution_count": 628,
   "id": "ba6f75d9",
   "metadata": {},
   "outputs": [
    {
     "data": {
      "text/plain": [
       "(109642, 109642)"
      ]
     },
     "execution_count": 628,
     "metadata": {},
     "output_type": "execute_result"
    }
   ],
   "source": [
    "len(authors_edges_papers_sub_2), len(A_sub_clear_edges_check)"
   ]
  },
  {
   "cell_type": "code",
   "execution_count": 629,
   "id": "3b4dec34",
   "metadata": {},
   "outputs": [],
   "source": [
    "authors_edges_papers_sub = authors_edges_papers_sub_2"
   ]
  },
  {
   "cell_type": "code",
   "execution_count": 630,
   "id": "386a17b9",
   "metadata": {},
   "outputs": [
    {
     "name": "stderr",
     "output_type": "stream",
     "text": [
      "100%|██████████| 3967/3967 [00:00<00:00, 40296.25it/s]\n"
     ]
    },
    {
     "data": {
      "text/plain": [
       "0"
      ]
     },
     "execution_count": 630,
     "metadata": {},
     "output_type": "execute_result"
    }
   ],
   "source": [
    "counter = 0\n",
    "for paper in tqdm(unique_papers_2):\n",
    "    if paper not in G_sub_clear_nodes:\n",
    "        counter += 1\n",
    "        print(paper)\n",
    "counter"
   ]
  },
  {
   "cell_type": "markdown",
   "id": "a42f2419",
   "metadata": {},
   "source": [
    "Delete unwanted authors that remain separated after collaboration removing:"
   ]
  },
  {
   "cell_type": "code",
   "execution_count": 631,
   "id": "228955af",
   "metadata": {},
   "outputs": [],
   "source": [
    "Gcc_a = sorted(nx.connected_components(A_sub_clear.to_undirected()), key=len, reverse=True)"
   ]
  },
  {
   "cell_type": "code",
   "execution_count": 632,
   "id": "756422c7",
   "metadata": {},
   "outputs": [
    {
     "name": "stdout",
     "output_type": "stream",
     "text": [
      "Connected compontents in the clear graph:  [1897, 4, 3, 2, 2, 1, 1, 1, 1, 1, 1, 1, 1, 1, 1, 1, 1, 1, 1, 1, 1, 1, 1, 1, 1, 1, 1, 1, 1, 1, 1, 1, 1, 1, 1, 1, 1, 1, 1, 1, 1, 1, 1, 1, 1, 1, 1, 1, 1, 1, 1, 1, 1, 1, 1, 1, 1, 1, 1, 1, 1, 1, 1, 1, 1, 1, 1, 1, 1, 1, 1, 1, 1, 1, 1, 1, 1, 1, 1, 1, 1, 1, 1, 1, 1, 1, 1, 1, 1, 1, 1, 1, 1, 1, 1, 1, 1, 1, 1, 1, 1, 1, 1, 1, 1, 1, 1, 1, 1, 1, 1, 1, 1, 1, 1, 1, 1, 1, 1, 1, 1, 1, 1, 1, 1, 1, 1, 1, 1, 1, 1, 1, 1, 1, 1, 1, 1, 1, 1, 1, 1, 1, 1, 1, 1, 1, 1, 1, 1, 1, 1, 1, 1, 1, 1, 1, 1, 1, 1, 1, 1, 1, 1, 1, 1, 1, 1, 1, 1, 1, 1, 1, 1, 1, 1, 1, 1, 1, 1, 1, 1, 1, 1, 1, 1, 1, 1, 1, 1, 1, 1, 1, 1, 1, 1, 1, 1, 1, 1, 1, 1, 1, 1, 1, 1, 1, 1, 1, 1, 1, 1, 1, 1, 1, 1, 1, 1, 1, 1, 1, 1, 1, 1, 1, 1, 1, 1, 1, 1, 1, 1, 1, 1, 1, 1, 1, 1, 1, 1, 1, 1, 1, 1, 1, 1, 1, 1, 1, 1, 1, 1, 1, 1, 1, 1, 1, 1, 1, 1, 1, 1, 1, 1, 1, 1, 1, 1, 1, 1, 1, 1, 1, 1, 1, 1, 1, 1, 1, 1, 1, 1, 1, 1, 1, 1, 1, 1, 1, 1, 1, 1, 1, 1, 1, 1, 1, 1, 1, 1, 1, 1, 1, 1, 1, 1, 1, 1, 1, 1, 1, 1, 1, 1, 1, 1, 1, 1, 1, 1, 1, 1, 1, 1, 1, 1, 1, 1, 1, 1, 1, 1, 1, 1, 1, 1, 1, 1, 1, 1, 1, 1, 1, 1, 1, 1, 1, 1, 1, 1, 1, 1, 1, 1, 1, 1, 1, 1, 1, 1]\n"
     ]
    }
   ],
   "source": [
    "print(\"Connected compontents in the clear graph: \", [len(Gcc_a[i]) for i in range(len(Gcc_a))])"
   ]
  },
  {
   "cell_type": "code",
   "execution_count": 633,
   "id": "b72ee45d",
   "metadata": {},
   "outputs": [],
   "source": [
    "for i in range(1, len(Gcc_a)):\n",
    "    authors_2_delete = list(Gcc_a[i])\n",
    "    for j in range(len(authors_2_delete)):\n",
    "        node = authors_2_delete[j]\n",
    "        A_sub_clear.remove_node(node) "
   ]
  },
  {
   "cell_type": "code",
   "execution_count": 40,
   "id": "1658e252",
   "metadata": {},
   "outputs": [],
   "source": [
    "Gcc_a_f = sorted(nx.connected_components(A_sub_clear.to_undirected()), key=len, reverse=True)"
   ]
  },
  {
   "cell_type": "code",
   "execution_count": 41,
   "id": "6e65bd91",
   "metadata": {},
   "outputs": [
    {
     "name": "stdout",
     "output_type": "stream",
     "text": [
      "Connected compontents in the final graph:  [1437]\n"
     ]
    }
   ],
   "source": [
    "print(\"Connected compontents in the final graph: \", [len(Gcc_a_f[i]) for i in range(len(Gcc_a_f))])"
   ]
  },
  {
   "cell_type": "markdown",
   "id": "b6bf0e62",
   "metadata": {},
   "source": [
    "### Final check\n",
    "<a id='final_check'></a>"
   ]
  },
  {
   "cell_type": "code",
   "execution_count": 636,
   "id": "5f9cb31d",
   "metadata": {},
   "outputs": [
    {
     "name": "stdout",
     "output_type": "stream",
     "text": [
      "Number of connected components in the final graphs:  1 1\n"
     ]
    }
   ],
   "source": [
    "A_nc, G_nc = nx.number_connected_components(A_sub_clear.to_undirected()),\\\n",
    "nx.number_connected_components(G_sub_clear.to_undirected()) \n",
    "print(\"Number of connected components in the final graphs: \", \\\n",
    "      A_nc, \\\n",
    "      G_nc)\n",
    "assert A_nc == 1 and G_nc == 1, \"The number of connected components is not equal to 1 in the graphs\""
   ]
  },
  {
   "cell_type": "code",
   "execution_count": 37,
   "id": "01518047",
   "metadata": {},
   "outputs": [],
   "source": [
    "def get_graph_properties(H):\n",
    "    print(\"Nodes in in the final subgraph: \", len(H.nodes()), \"\\nEdges in the final subgraph: \", len(H.edges()))\n",
    "#    print(\"Diameter: \", nx.diameter(H.to_undirected()))\n",
    "    print(\"Average clustering coefficient: \", nx.average_clustering(H.to_undirected()))\n",
    "    return len(H.nodes())"
   ]
  },
  {
   "cell_type": "code",
   "execution_count": 127,
   "id": "7b188423",
   "metadata": {},
   "outputs": [],
   "source": [
    "G_sub_clear = G_sub"
   ]
  },
  {
   "cell_type": "code",
   "execution_count": 130,
   "id": "0b6461fe",
   "metadata": {},
   "outputs": [
    {
     "name": "stdout",
     "output_type": "stream",
     "text": [
      "Co-authorship graph properties: \n",
      "Nodes in in the final subgraph:  1437 \n",
      "Edges in the final subgraph:  14866\n",
      "Average clustering coefficient:  0.7756888832623524\n",
      "\n",
      "Citation graph properties: \n",
      "Nodes in in the final subgraph:  3164 \n",
      "Edges in the final subgraph:  4283\n",
      "Average clustering coefficient:  0.18015433283481017\n"
     ]
    }
   ],
   "source": [
    "print(\"Co-authorship graph properties: \")\n",
    "p1 = get_graph_properties(A_sub_clear)\n",
    "print(\"\\nCitation graph properties: \")\n",
    "p2 = get_graph_properties(G_sub_clear)"
   ]
  },
  {
   "cell_type": "markdown",
   "id": "dbcfb60f",
   "metadata": {},
   "source": [
    "### Save data\n",
    "<a id='save_data'></a>"
   ]
  },
  {
   "cell_type": "code",
   "execution_count": 128,
   "id": "35d5b82a",
   "metadata": {},
   "outputs": [],
   "source": [
    "nodes_author, nodes_citation = p1, p2"
   ]
  },
  {
   "cell_type": "code",
   "execution_count": 129,
   "id": "615464ca",
   "metadata": {},
   "outputs": [
    {
     "data": {
      "text/plain": [
       "'SSORC_CS_10_21_1437_3164_unfiltered'"
      ]
     },
     "execution_count": 129,
     "metadata": {},
     "output_type": "execute_result"
    }
   ],
   "source": [
    "dataset_name = \"SSORC_CS_10_21_\" + str(nodes_author) + \"_\" + str(nodes_citation) + \"_unfiltered\" \n",
    "dataset_name"
   ]
  },
  {
   "cell_type": "markdown",
   "id": "811742dc",
   "metadata": {},
   "source": [
    "_Recommended format:_ name_of_SSORC_subset (e. g., SSORC_CS_10_21) + _ + co-authorsip graph node number + _ + citation graph node number + _ + fancy latin word"
   ]
  },
  {
   "cell_type": "code",
   "execution_count": 131,
   "id": "c927602a",
   "metadata": {},
   "outputs": [
    {
     "name": "stdout",
     "output_type": "stream",
     "text": [
      "mkdir: cannot create directory ‘datasets/SSORC_CS_10_21_1437_3164_unfiltered’: File exists\r\n"
     ]
    }
   ],
   "source": [
    "!mkdir datasets/{dataset_name}"
   ]
  },
  {
   "cell_type": "code",
   "execution_count": 132,
   "id": "cd126cd5",
   "metadata": {},
   "outputs": [],
   "source": [
    "for node in G_sub_clear.nodes:\n",
    "    G.add_edge(node, node)"
   ]
  },
  {
   "cell_type": "code",
   "execution_count": 133,
   "id": "eb62cbb9",
   "metadata": {},
   "outputs": [],
   "source": [
    "nx.write_edgelist(G_sub_clear, \"datasets/\" + dataset_name + \"/\" + dataset_name + \"_\" + \"papers.edgelist\")"
   ]
  },
  {
   "cell_type": "code",
   "execution_count": 134,
   "id": "790354d2",
   "metadata": {},
   "outputs": [],
   "source": [
    "nx.write_edgelist(A_sub_clear, \"datasets/\" + dataset_name + \"/\" + dataset_name + \"_\" + \"authors.edgelist\")"
   ]
  },
  {
   "cell_type": "code",
   "execution_count": 135,
   "id": "9cc40620",
   "metadata": {},
   "outputs": [],
   "source": [
    "authors_edges_papers.to_csv(\"datasets/\" + dataset_name + \"/\" + dataset_name + \"_\" + \"authors_edges_papers_indices.csv\")"
   ]
  }
 ],
 "metadata": {
  "kernelspec": {
   "display_name": "Python 3 (ipykernel)",
   "language": "python",
   "name": "python3"
  },
  "language_info": {
   "codemirror_mode": {
    "name": "ipython",
    "version": 3
   },
   "file_extension": ".py",
   "mimetype": "text/x-python",
   "name": "python",
   "nbconvert_exporter": "python",
   "pygments_lexer": "ipython3",
   "version": "3.7.12"
  }
 },
 "nbformat": 4,
 "nbformat_minor": 5
}
